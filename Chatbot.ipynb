{
 "cells": [
  {
   "cell_type": "code",
   "execution_count": 1,
   "id": "b48fbbba",
   "metadata": {},
   "outputs": [],
   "source": [
    "from nltk.chat.util import Chat, reflections"
   ]
  },
  {
   "cell_type": "code",
   "execution_count": null,
   "id": "dd967423",
   "metadata": {},
   "outputs": [
    {
     "name": "stdout",
     "output_type": "stream",
     "text": [
      "Olá, sou um robô em desenvolvimento.\n"
     ]
    }
   ],
   "source": [
    "my_dummy_reflections = {\n",
    "  \"oi\": \"olá\",\n",
    "  \"tudo bem?\": \"tudo ótimo, e você?\",\n",
    "  \"estou bem\": \"que ótimo!\",\n",
    "  \"tchau\": \"até logo!\",\n",
    "}\n",
    "\n",
    "pairs = [\n",
    "    [\n",
    "        r\"meu nome é (.*)\",\n",
    "        [\"Olá %1, como você está hoje?\"]\n",
    "    ],\n",
    "    [\n",
    "        r\"oi|ola|Olá|Ola\",\n",
    "        [\"Olá\", \"Oi\"]\n",
    "    ],\n",
    "    [\n",
    "        r\"como você está?\",\n",
    "        [\"Eu estou bem, obrigado. Como você está?\"]\n",
    "    ],\n",
    "    [\n",
    "        r\"desculpe (.*)\",\n",
    "        [\"Não se preocupe, tudo bem.\"]\n",
    "    ],\n",
    "    [\n",
    "        r\"eu preciso de (.*)\",\n",
    "        [\"Por que você precisa de %1?\", \"Posso ajudar em alguma coisa com %1?\"]\n",
    "    ],\n",
    "    [\n",
    "        r\"eu sou (.*)\",\n",
    "        [\"É legal ser %1\", \"Legal, você é %1!\"]\n",
    "    ],\n",
    "    [\n",
    "        r\"tchau\",\n",
    "        [\"Até logo!\", \"Tchau!\"]\n",
    "    ],\n",
    "    [\n",
    "        r\"(.*) (estou com|tenho) (.*)\",\n",
    "        [\n",
    "            \"Desculpe ouvir isso. O que você gostaria de fazer em relação a %3?\",\n",
    "            \"Eu entendo. Como você está lidando com %3?\"\n",
    "        ],\n",
    "    ],\n",
    "    [\n",
    "        r\"estou (.*)\",\n",
    "        [\n",
    "            \"Desculpe ouvir isso. O que você gostaria de fazer em relação a estar %1?\",\n",
    "            \"Eu entendo. Como você está lidando com estar %1?\"\n",
    "        ],\n",
    "    ],\n",
    "    [\n",
    "        r\"eu (preciso|quero) (.*)\",\n",
    "        [\n",
    "            \"Entendi, eu posso ajudar você com %2?\",\n",
    "            \"Eu posso ajudar você a encontrar recursos para lidar com %2?\"\n",
    "        ],\n",
    "    ],\n",
    "    [\n",
    "        r\"^(sim|s|claro|pode ser|ok)$\",\n",
    "        [\"Ótimo, vamos prosseguir.\"],\n",
    "    ],\n",
    "    [\n",
    "        r\"^(não|nao|n|nop|nao obrigado)$\",\n",
    "        [\"Certo, deixe-me saber se houver algo mais em que eu possa ajudar.\"],\n",
    "    ]\n",
    "]\n",
    "\n",
    "print('Olá, sou um robô em desenvolvimento.')\n",
    "chatbot = Chat(pairs, my_dummy_reflections)\n",
    "chatbot.converse()\n"
   ]
  },
  {
   "cell_type": "code",
   "execution_count": null,
   "id": "ea0be096",
   "metadata": {},
   "outputs": [],
   "source": []
  }
 ],
 "metadata": {
  "kernelspec": {
   "display_name": "Python 3 (ipykernel)",
   "language": "python",
   "name": "python3"
  },
  "language_info": {
   "codemirror_mode": {
    "name": "ipython",
    "version": 3
   },
   "file_extension": ".py",
   "mimetype": "text/x-python",
   "name": "python",
   "nbconvert_exporter": "python",
   "pygments_lexer": "ipython3",
   "version": "3.10.8"
  }
 },
 "nbformat": 4,
 "nbformat_minor": 5
}
